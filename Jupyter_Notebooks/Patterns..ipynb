{
 "cells": [
  {
   "cell_type": "markdown",
   "metadata": {},
   "source": [
    "### 1. WAP to print given pattern.\n",
    "\n",
    "    #\n",
    "    & &\n",
    "    # # #\n",
    "    & & & & "
   ]
  },
  {
   "cell_type": "code",
   "execution_count": 1,
   "metadata": {},
   "outputs": [
    {
     "name": "stdout",
     "output_type": "stream",
     "text": [
      "\n",
      "# \n",
      "& & \n",
      "# # # \n",
      "& & & & \n"
     ]
    }
   ],
   "source": [
    "def half_pyramid(r): # r is no. of rows\n",
    "    for i in range(r+1):\n",
    "        for j in range(1,i+1):\n",
    "            if i%2!=0:\n",
    "                print('#',end=' ')\n",
    "            else:\n",
    "                print('&',end=' ')\n",
    "        print()\n",
    "half_pyramid(4)"
   ]
  },
  {
   "cell_type": "markdown",
   "metadata": {},
   "source": [
    "### 2. WAP to print given pattern.\n",
    "\n",
    "    *\n",
    "    * *\n",
    "    * * *\n",
    "    * * * * \n",
    "    * * * * *"
   ]
  },
  {
   "cell_type": "code",
   "execution_count": 37,
   "metadata": {},
   "outputs": [
    {
     "name": "stdout",
     "output_type": "stream",
     "text": [
      "* \n",
      "* * \n",
      "* * * \n",
      "* * * * \n",
      "* * * * * \n"
     ]
    }
   ],
   "source": [
    "def half_pyramed(r):\n",
    "    for i in range(r):\n",
    "        for j in range(i+1):\n",
    "            print('*',end=' ')\n",
    "        print()\n",
    "half_pyramed(5)"
   ]
  },
  {
   "cell_type": "code",
   "execution_count": 4,
   "metadata": {},
   "outputs": [
    {
     "name": "stdout",
     "output_type": "stream",
     "text": [
      "\n",
      "* \n",
      "* * \n",
      "* * * \n",
      "* * * * \n",
      "* * * * * \n"
     ]
    }
   ],
   "source": [
    "# SECOND METHOD.\n",
    "\n",
    "def half_pyramed(r):\n",
    "    for i in range(r+1):\n",
    "        print('* '*i)\n",
    "half_pyramed(5)"
   ]
  },
  {
   "cell_type": "markdown",
   "metadata": {},
   "source": [
    "### 3. WAP to print given pattern.\n",
    "\n",
    "    1\n",
    "    1 2\n",
    "    1 2 3\n",
    "    1 2 3 4"
   ]
  },
  {
   "cell_type": "code",
   "execution_count": 5,
   "metadata": {},
   "outputs": [
    {
     "name": "stdout",
     "output_type": "stream",
     "text": [
      "\n",
      "1 \n",
      "1 2 \n",
      "1 2 3 \n",
      "1 2 3 4 \n"
     ]
    }
   ],
   "source": [
    "def num_half(r):\n",
    "    for i in range(r+1):\n",
    "        for j in range(1,i+1):\n",
    "            print(j,end=' ')\n",
    "        print()\n",
    "num_half(4)"
   ]
  },
  {
   "cell_type": "markdown",
   "metadata": {},
   "source": [
    "### 4. WAP to print given pattern.\n",
    "\n",
    "    1\n",
    "    2 2\n",
    "    3 3 3\n",
    "    4 4 4 4"
   ]
  },
  {
   "cell_type": "code",
   "execution_count": 7,
   "metadata": {},
   "outputs": [
    {
     "name": "stdout",
     "output_type": "stream",
     "text": [
      "\n",
      "1 \n",
      "2 2 \n",
      "3 3 3 \n",
      "4 4 4 4 \n"
     ]
    }
   ],
   "source": [
    "def num_half(r):\n",
    "    for i in range(r+1):\n",
    "        for j in range(1,i+1):\n",
    "            print(i,end=' ')\n",
    "        print()\n",
    "num_half(4)"
   ]
  },
  {
   "cell_type": "markdown",
   "metadata": {},
   "source": [
    "### 5. WAP to print given pattern.\n",
    "\n",
    "    1\n",
    "    2 3\n",
    "    4 5 6\n",
    "    7 8 9 10"
   ]
  },
  {
   "cell_type": "code",
   "execution_count": 10,
   "metadata": {},
   "outputs": [
    {
     "name": "stdout",
     "output_type": "stream",
     "text": [
      "\n",
      "1 \n",
      "2 3 \n",
      "4 5 6 \n",
      "7 8 9 10 \n"
     ]
    }
   ],
   "source": [
    "def num_series(r):\n",
    "    n = 1\n",
    "    for i in range(r+1):\n",
    "        for j in range(1,i+1):\n",
    "            print(n,end=' ')\n",
    "            n=n+1\n",
    "        print()\n",
    "num_series(4)        "
   ]
  },
  {
   "cell_type": "markdown",
   "metadata": {},
   "source": [
    "### 6. WAP to print given pattern.\n",
    "\n",
    "    * * * * *\n",
    "    * * * * *\n",
    "    * * * * *\n",
    "    * * * * *\n",
    "    * * * * *"
   ]
  },
  {
   "cell_type": "code",
   "execution_count": 6,
   "metadata": {},
   "outputs": [
    {
     "name": "stdout",
     "output_type": "stream",
     "text": [
      "* * * * * \n",
      "* * * * * \n",
      "* * * * * \n",
      "* * * * * \n",
      "* * * * * \n"
     ]
    }
   ],
   "source": [
    "def square_pattern(r):\n",
    "    for i in range(r):\n",
    "        print('* '*r)\n",
    "square_pattern(5)    "
   ]
  },
  {
   "cell_type": "code",
   "execution_count": 24,
   "metadata": {},
   "outputs": [
    {
     "name": "stdout",
     "output_type": "stream",
     "text": [
      "* * * * * \n",
      "* * * * * \n",
      "* * * * * \n",
      "* * * * * \n",
      "* * * * * \n"
     ]
    }
   ],
   "source": [
    "# second method.\n",
    "\n",
    "def square_pattern(r):\n",
    "    for i in range(r):\n",
    "        for j in range(r):\n",
    "            print('*',end=' ')\n",
    "        print()\n",
    "square_pattern(5)"
   ]
  },
  {
   "cell_type": "markdown",
   "metadata": {},
   "source": [
    "### 7. WAP to print given pattern.\n",
    "\n",
    "    * * * * *\n",
    "    * * * *\n",
    "    * * *\n",
    "    * *\n",
    "    *"
   ]
  },
  {
   "cell_type": "code",
   "execution_count": 26,
   "metadata": {},
   "outputs": [
    {
     "name": "stdout",
     "output_type": "stream",
     "text": [
      "* * * * * \n",
      "* * * * \n",
      "* * * \n",
      "* * \n",
      "* \n"
     ]
    }
   ],
   "source": [
    "def inverted_half_pyramid(r):\n",
    "    for i in range(r):\n",
    "        for j in range(i,r):\n",
    "            print('*',end=' ')\n",
    "        print()\n",
    "inverted_half_pyramid(5)"
   ]
  },
  {
   "cell_type": "markdown",
   "metadata": {},
   "source": [
    "### 8. WAP to print given pattern.\n",
    "\n",
    "    *\n",
    "    * *\n",
    "    * * *\n",
    "    * * * * \n",
    "    * * * * *\n",
    "    * * * * \n",
    "    * * * \n",
    "    * * \n",
    "    * "
   ]
  },
  {
   "cell_type": "code",
   "execution_count": 42,
   "metadata": {},
   "outputs": [
    {
     "name": "stdout",
     "output_type": "stream",
     "text": [
      "* \n",
      "* * \n",
      "* * * \n",
      "* * * * \n",
      "* * * * * \n",
      "* * * * \n",
      "* * * \n",
      "* * \n",
      "* \n"
     ]
    }
   ],
   "source": [
    "def right_pascal_triangle(r):\n",
    "    for i in range(r-1):\n",
    "        for j in range(i+1):\n",
    "            print('*',end=' ')\n",
    "        print()\n",
    "    for i in range(r):\n",
    "        for j in range(i,r):\n",
    "            print('*',end=' ')\n",
    "        print()\n",
    "right_pascal_triangle(5)    \n"
   ]
  },
  {
   "cell_type": "markdown",
   "metadata": {},
   "source": [
    "### 9. WAP to print given pattern.\n",
    "\n",
    "            *\n",
    "          * *\n",
    "        * * *\n",
    "      * * * *\n",
    "    * * * * *"
   ]
  },
  {
   "cell_type": "code",
   "execution_count": 55,
   "metadata": {},
   "outputs": [
    {
     "name": "stdout",
     "output_type": "stream",
     "text": [
      "          * \n",
      "        * * \n",
      "      * * * \n",
      "    * * * * \n",
      "  * * * * * \n"
     ]
    }
   ],
   "source": [
    "def right_triangle(r):\n",
    "    for i in range(r):\n",
    "        for j in range(i,r):\n",
    "            print(\" \",end=' ')\n",
    "\n",
    "        for j in range(i+1):\n",
    "            print('*',end=' ')\n",
    "        print()\n",
    "right_triangle(5)"
   ]
  },
  {
   "cell_type": "markdown",
   "metadata": {},
   "source": [
    "### 10. WAP to print given pattern.\n",
    "    * * * * *\n",
    "      * * * *\n",
    "        * * *\n",
    "          * *\n",
    "            *"
   ]
  },
  {
   "cell_type": "code",
   "execution_count": 54,
   "metadata": {},
   "outputs": [
    {
     "name": "stdout",
     "output_type": "stream",
     "text": [
      "  * * * * * \n",
      "    * * * * \n",
      "      * * * \n",
      "        * * \n",
      "          * \n"
     ]
    }
   ],
   "source": [
    "def inverted_right_triangle(r):\n",
    "    for i in range(r):\n",
    "        for j in range(i+1):\n",
    "            print(\" \",end=\" \")\n",
    "        for j in range(i,r):\n",
    "            print('*',end=' ')\n",
    "        print()\n",
    "inverted_right_triangle(5)"
   ]
  },
  {
   "cell_type": "markdown",
   "metadata": {},
   "source": [
    "### 11. WAP to print given pattern.\n",
    "\n",
    "            *\n",
    "          * * *\n",
    "        * * * * *\n",
    "      * * * * * * *\n",
    "    * * * * * * * * *\n"
   ]
  },
  {
   "cell_type": "code",
   "execution_count": 61,
   "metadata": {},
   "outputs": [
    {
     "name": "stdout",
     "output_type": "stream",
     "text": [
      "          * \n",
      "        * * * \n",
      "      * * * * * \n",
      "    * * * * * * * \n",
      "  * * * * * * * * * \n"
     ]
    }
   ],
   "source": [
    "def full_triangle(r):\n",
    "    for i in range(r):\n",
    "        for j in range(i,r):\n",
    "            print(\" \",end=\" \")\n",
    "        for j in range(i):\n",
    "            print('*',end=' ')\n",
    "        for j in range(i+1):\n",
    "            print('*',end=' ')\n",
    "        print()\n",
    "full_triangle(5)"
   ]
  },
  {
   "cell_type": "code",
   "execution_count": 64,
   "metadata": {},
   "outputs": [
    {
     "name": "stdout",
     "output_type": "stream",
     "text": [
      "     * \n",
      "    * * \n",
      "   * * * \n",
      "  * * * * \n",
      " * * * * * \n"
     ]
    }
   ],
   "source": [
    "# second method.\n",
    "\n",
    "def full_triangle(r):\n",
    "    for i in range(r):\n",
    "        for j in range(i,r):\n",
    "            print('',end=' ')\n",
    "        for j in range(i+1):\n",
    "            print('*',end=\" \")\n",
    "        print()\n",
    "full_triangle(5)"
   ]
  },
  {
   "cell_type": "markdown",
   "metadata": {},
   "source": [
    "### 12. WAP to print given pattern.\n",
    "\n",
    "    * * * * * * * * *\n",
    "      * * * * * * *\n",
    "        * * * * *\n",
    "          * * *\n",
    "            *"
   ]
  },
  {
   "cell_type": "code",
   "execution_count": 69,
   "metadata": {},
   "outputs": [
    {
     "name": "stdout",
     "output_type": "stream",
     "text": [
      "  * * * * * * * * * \n",
      "    * * * * * * * \n",
      "      * * * * * \n",
      "        * * * \n",
      "          * \n"
     ]
    }
   ],
   "source": [
    "def inverted_triangle(r):\n",
    "    for i in range(r):\n",
    "        for j in range(i+1):\n",
    "            print(' ',end=' ')\n",
    "        for j in range(i,r-1):\n",
    "            print('*',end=' ')\n",
    "        for j in range(i,r):\n",
    "            print('*',end=' ')\n",
    "        print()\n",
    "inverted_triangle(5)"
   ]
  },
  {
   "cell_type": "code",
   "execution_count": 66,
   "metadata": {},
   "outputs": [
    {
     "name": "stdout",
     "output_type": "stream",
     "text": [
      " * * * * * \n",
      "  * * * * \n",
      "   * * * \n",
      "    * * \n",
      "     * \n"
     ]
    }
   ],
   "source": [
    "# second method.\n",
    "\n",
    "def inverted_triangle(r):\n",
    "    for i in range(r):\n",
    "        for j in range(i+1):\n",
    "            print(\"\",end=\" \")\n",
    "        for j in range(i,r):\n",
    "            print('*',end=' ')\n",
    "        print()\n",
    "inverted_triangle(5)"
   ]
  },
  {
   "cell_type": "markdown",
   "metadata": {},
   "source": [
    "### 13. WAP to print given pattern.\n",
    "\n",
    "            *\n",
    "          * * *\n",
    "        * * * * *\n",
    "      * * * * * * * \n",
    "    * * * * * * * * *\n",
    "      * * * * * * *\n",
    "        * * * * *\n",
    "          * * *\n",
    "            *"
   ]
  },
  {
   "cell_type": "code",
   "execution_count": 82,
   "metadata": {},
   "outputs": [
    {
     "name": "stdout",
     "output_type": "stream",
     "text": [
      "          * \n",
      "        * * * \n",
      "      * * * * * \n",
      "    * * * * * * * \n",
      "  * * * * * * * * * \n",
      "    * * * * * * * \n",
      "      * * * * * \n",
      "        * * * \n",
      "          * \n"
     ]
    }
   ],
   "source": [
    "def diamond_pattern(r):\n",
    "    for i in range(r-1):\n",
    "        for j in range(i,r):\n",
    "            print(' ',end=' ')\n",
    "        for j in range(i):\n",
    "            print('*',end=' ')\n",
    "        for j in range(i+1):\n",
    "            print('*',end=' ')\n",
    "        print()\n",
    "    for i in range(r):\n",
    "        for j in range(i+1):\n",
    "            print(' ',end=' ')\n",
    "        for j in range(i,r-1):\n",
    "            print('*',end=' ')\n",
    "        for j in range(i,r):\n",
    "            print('*',end=' ')\n",
    "        print()\n",
    "diamond_pattern(5)"
   ]
  },
  {
   "cell_type": "code",
   "execution_count": 84,
   "metadata": {},
   "outputs": [
    {
     "name": "stdout",
     "output_type": "stream",
     "text": [
      "     * \n",
      "    * * \n",
      "   * * * \n",
      "  * * * * \n",
      " * * * * * \n",
      "  * * * * \n",
      "   * * * \n",
      "    * * \n",
      "     * \n"
     ]
    }
   ],
   "source": [
    "# second method.\n",
    "\n",
    "def diamond_pattern(r):\n",
    "    for i in range(r-1):\n",
    "        for j in range(i,r):\n",
    "            print('',end=' ')\n",
    "        for j in range(i+1):\n",
    "            print('*',end=\" \")\n",
    "        print()\n",
    "    for i in range(r):\n",
    "        for j in range(i+1):\n",
    "            print(\"\",end=\" \")\n",
    "        for j in range(i,r):\n",
    "            print('*',end=' ')\n",
    "        print()\n",
    "diamond_pattern(5)"
   ]
  },
  {
   "cell_type": "markdown",
   "metadata": {},
   "source": [
    "### 14. WAP to print given pattern.\n",
    "\n",
    "            *\n",
    "          * *\n",
    "        * * *\n",
    "      * * * * \n",
    "    * * * * *\n",
    "      * * * * \n",
    "        * * * \n",
    "          * * \n",
    "            * "
   ]
  },
  {
   "cell_type": "code",
   "execution_count": 86,
   "metadata": {},
   "outputs": [
    {
     "name": "stdout",
     "output_type": "stream",
     "text": [
      "          * \n",
      "        * * \n",
      "      * * * \n",
      "    * * * * \n",
      "  * * * * * \n",
      "    * * * * \n",
      "      * * * \n",
      "        * * \n",
      "          * \n"
     ]
    }
   ],
   "source": [
    "def left_pascal_triangle(r):\n",
    "    for i in range(r-1):\n",
    "        for j in range(i,r):\n",
    "            print(' ',end=' ')\n",
    "        for j in range(i+1):\n",
    "            print('*',end=' ')\n",
    "        print()\n",
    "    for i in range(r):\n",
    "        for j in range(i+1):\n",
    "            print(' ',end=' ')\n",
    "        for j in range(i,r):\n",
    "            print('*',end=' ')\n",
    "        print()\n",
    "left_pascal_triangle(5)"
   ]
  },
  {
   "cell_type": "markdown",
   "metadata": {},
   "source": [
    "### 15. WAP to print given pattern.\n",
    "\n",
    "    *                 *\n",
    "    * *             * *\n",
    "    * * *         * * *\n",
    "    * * * *     * * * *\n",
    "    * * * * * * * * * * \n",
    "    * * * *     * * * *\n",
    "    * * *         * * *\n",
    "    * *             * *\n",
    "    *                 *"
   ]
  },
  {
   "cell_type": "code",
   "execution_count": 121,
   "metadata": {},
   "outputs": [
    {
     "name": "stdout",
     "output_type": "stream",
     "text": [
      "*                 * \n",
      "* *             * * \n",
      "* * *         * * * \n",
      "* * * *     * * * * \n",
      "* * * * * * * * * * \n",
      "* * * *     * * * * \n",
      "* * *         * * * \n",
      "* *             * * \n",
      "*                 * \n"
     ]
    }
   ],
   "source": [
    "def butterfly(r):\n",
    "    for i in range(r-1):\n",
    "        for j in range(i+1):\n",
    "            print(\"*\",end=\" \")\n",
    "        for j in range(i,r-2):\n",
    "            print(' ',end=' ')\n",
    "        for j in range(i,r):\n",
    "            print(' ',end=' ')\n",
    "        for j in range(i+1):\n",
    "            print(\"*\",end=\" \")\n",
    "        print()\n",
    "    for i in range(r):\n",
    "        for j in range(i,r):\n",
    "            print(\"*\",end=\" \")\n",
    "        for j in range(i):\n",
    "            print(' ',end=' ')\n",
    "        for j in range(i):\n",
    "            print(' ',end=' ')\n",
    "        for j in range(i,r):\n",
    "            print(\"*\",end=\" \")\n",
    "        print()\n",
    "butterfly(5)"
   ]
  },
  {
   "cell_type": "code",
   "execution_count": null,
   "metadata": {},
   "outputs": [],
   "source": []
  }
 ],
 "metadata": {
  "kernelspec": {
   "display_name": "Python 3",
   "language": "python",
   "name": "python3"
  },
  "language_info": {
   "codemirror_mode": {
    "name": "ipython",
    "version": 3
   },
   "file_extension": ".py",
   "mimetype": "text/x-python",
   "name": "python",
   "nbconvert_exporter": "python",
   "pygments_lexer": "ipython3",
   "version": "3.8.3"
  }
 },
 "nbformat": 4,
 "nbformat_minor": 4
}
