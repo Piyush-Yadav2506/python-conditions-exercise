{
 "cells": [
  {
   "cell_type": "markdown",
   "metadata": {
    "id": "lEc1G18fTuYL"
   },
   "source": [
    "1) Write a Python program to get the Python version you are using"
   ]
  },
  {
   "cell_type": "code",
   "execution_count": 8,
   "metadata": {},
   "outputs": [
    {
     "name": "stdout",
     "output_type": "stream",
     "text": [
      "Current Python Version: 3.12.7 | packaged by Anaconda, Inc. | (main, Oct  4 2024, 13:17:27) [MSC v.1929 64 bit (AMD64)]\n",
      "Python Version Info: sys.version_info(major=3, minor=12, micro=7, releaselevel='final', serial=0)\n"
     ]
    }
   ],
   "source": [
    "import sys\n",
    "print(\"Current Python Version:\",sys.version)\n",
    "print(\"Python Version Info:\",sys.version_info)"
   ]
  },
  {
   "cell_type": "markdown",
   "metadata": {
    "id": "IsNBIMKfTuYM"
   },
   "source": [
    "2) Write a Python program to display the current date and time"
   ]
  },
  {
   "cell_type": "code",
   "execution_count": 51,
   "metadata": {},
   "outputs": [
    {
     "name": "stdout",
     "output_type": "stream",
     "text": [
      "Current Year: 2025\n",
      "Current Month: 04\n",
      "Current Date: 13\n",
      "Current Time: 19:55:35\n",
      "Today's Date: 13-04-2025\n"
     ]
    }
   ],
   "source": [
    "from datetime import datetime as dt\n",
    "current=dt.now()\n",
    "year = current.strftime('%Y')\n",
    "print(\"Current Year:\",year)\n",
    "month = current.strftime(\"%m\")\n",
    "print(\"Current Month:\",month)\n",
    "day = current.strftime(\"%d\")\n",
    "print(\"Current Date:\",day)\n",
    "time = current.strftime(\"%H:%M:%S\")\n",
    "print(\"Current Time:\",time)\n",
    "date = current.strftime(\"%d-%m-%Y\")\n",
    "print(\"Today's Date:\",date)"
   ]
  },
  {
   "cell_type": "markdown",
   "metadata": {
    "id": "GQ4L6a2TTuYN"
   },
   "source": [
    "3) Write a Python program which accepts the radius of a circle from the user and compute the area.\n",
    "   "
   ]
  },
  {
   "cell_type": "code",
   "execution_count": 54,
   "metadata": {},
   "outputs": [
    {
     "name": "stdin",
     "output_type": "stream",
     "text": [
      "Enter the radius: 3\n"
     ]
    },
    {
     "name": "stdout",
     "output_type": "stream",
     "text": [
      "Radius of Circle: 3\n",
      "Area of Circle: 28.259999999999998\n"
     ]
    }
   ],
   "source": [
    "def circle_area(r):\n",
    "    print(\"Radius of Circle:\",r)\n",
    "    area = 3.14*r*r\n",
    "    print(\"Area of Circle:\",area)\n",
    "    return\n",
    "r = eval(input(\"Enter the radius:\"))\n",
    "circle_area(r)"
   ]
  },
  {
   "cell_type": "markdown",
   "metadata": {
    "id": "6VKhAqj8TuYO"
   },
   "source": [
    "4) Solve the expression. 5.2 + True + bool(-5) - 4 + 42//5 +bool(0) + False + int(5.9) + float('1')"
   ]
  },
  {
   "cell_type": "code",
   "execution_count": 61,
   "metadata": {},
   "outputs": [
    {
     "name": "stdout",
     "output_type": "stream",
     "text": [
      "17.2\n",
      "17.2\n"
     ]
    }
   ],
   "source": [
    "a = 5.2 + True + bool(-5) - 4 + 42//5 +bool(0) + False + int(5.9) + float('1')\n",
    "# my solution.\n",
    "ans = 5.2 + 1 + 1 - 4 + 8 + 0 +0 + 5 + 1.0\n",
    "# now compare both \n",
    "print(a)\n",
    "print(ans)"
   ]
  },
  {
   "cell_type": "markdown",
   "metadata": {
    "id": "MU-GcAfwTuYO"
   },
   "source": [
    "5) Write code to test whether the given number lies between 1 and 10"
   ]
  },
  {
   "cell_type": "code",
   "execution_count": 72,
   "metadata": {},
   "outputs": [
    {
     "name": "stdin",
     "output_type": "stream",
     "text": [
      "Enter a number: 32\n"
     ]
    },
    {
     "name": "stdout",
     "output_type": "stream",
     "text": [
      "Given number not lies between 1 and 10\n"
     ]
    }
   ],
   "source": [
    "number = int(input(\"Enter a number:\"))\n",
    "if 0<number<=10:\n",
    "    print(\"Given number lies between 1 and 10\")\n",
    "else:\n",
    "    print(\"Given number not lies between 1 and 10\")"
   ]
  },
  {
   "cell_type": "markdown",
   "metadata": {
    "id": "LHraP9cgTuYP"
   },
   "source": [
    "6) sum the numbers from 1 to 20 using for loop"
   ]
  },
  {
   "cell_type": "code",
   "execution_count": 75,
   "metadata": {},
   "outputs": [
    {
     "name": "stdout",
     "output_type": "stream",
     "text": [
      "Sum of numbers in given range: 210\n"
     ]
    }
   ],
   "source": [
    "def sum_nums(n):\n",
    "    sum = 0\n",
    "    for i in range(1,n+1):\n",
    "        sum = sum + i \n",
    "    return print(\"Sum of numbers in given range:\",sum)\n",
    "n = 20\n",
    "sum_nums(n)"
   ]
  },
  {
   "cell_type": "markdown",
   "metadata": {
    "id": "-Pba3W4iTuYP"
   },
   "source": [
    "7) Display the numbers in reverse from 100 to 1"
   ]
  },
  {
   "cell_type": "code",
   "execution_count": 78,
   "metadata": {
    "scrolled": true
   },
   "outputs": [
    {
     "name": "stdout",
     "output_type": "stream",
     "text": [
      "100\n",
      "99\n",
      "98\n",
      "97\n",
      "96\n",
      "95\n",
      "94\n",
      "93\n",
      "92\n",
      "91\n",
      "90\n",
      "89\n",
      "88\n",
      "87\n",
      "86\n",
      "85\n",
      "84\n",
      "83\n",
      "82\n",
      "81\n",
      "80\n",
      "79\n",
      "78\n",
      "77\n",
      "76\n",
      "75\n",
      "74\n",
      "73\n",
      "72\n",
      "71\n",
      "70\n",
      "69\n",
      "68\n",
      "67\n",
      "66\n",
      "65\n",
      "64\n",
      "63\n",
      "62\n",
      "61\n",
      "60\n",
      "59\n",
      "58\n",
      "57\n",
      "56\n",
      "55\n",
      "54\n",
      "53\n",
      "52\n",
      "51\n",
      "50\n",
      "49\n",
      "48\n",
      "47\n",
      "46\n",
      "45\n",
      "44\n",
      "43\n",
      "42\n",
      "41\n",
      "40\n",
      "39\n",
      "38\n",
      "37\n",
      "36\n",
      "35\n",
      "34\n",
      "33\n",
      "32\n",
      "31\n",
      "30\n",
      "29\n",
      "28\n",
      "27\n",
      "26\n",
      "25\n",
      "24\n",
      "23\n",
      "22\n",
      "21\n",
      "20\n",
      "19\n",
      "18\n",
      "17\n",
      "16\n",
      "15\n",
      "14\n",
      "13\n",
      "12\n",
      "11\n",
      "10\n",
      "9\n",
      "8\n",
      "7\n",
      "6\n",
      "5\n",
      "4\n",
      "3\n",
      "2\n",
      "1\n"
     ]
    }
   ],
   "source": [
    "for i in range(100,0,-1):\n",
    "    print(i)"
   ]
  },
  {
   "cell_type": "markdown",
   "metadata": {
    "id": "fB5rb-IETuYP"
   },
   "source": [
    "8) Display multiples of 2 from 10 to 50 using range"
   ]
  },
  {
   "cell_type": "code",
   "execution_count": 81,
   "metadata": {
    "scrolled": true
   },
   "outputs": [
    {
     "name": "stdout",
     "output_type": "stream",
     "text": [
      "Multiples of 2 are:\n",
      "10\n",
      "12\n",
      "14\n",
      "16\n",
      "18\n",
      "20\n",
      "22\n",
      "24\n",
      "26\n",
      "28\n",
      "30\n",
      "32\n",
      "34\n",
      "36\n",
      "38\n",
      "40\n",
      "42\n",
      "44\n",
      "46\n",
      "48\n",
      "50\n"
     ]
    }
   ],
   "source": [
    "print(\"Multiples of 2 are:\")\n",
    "for i in range (10,51):\n",
    "    if i%2==0:\n",
    "        print(i)"
   ]
  },
  {
   "cell_type": "markdown",
   "metadata": {
    "id": "FdZMrAkyTuYQ"
   },
   "source": [
    "9) From the below nested dictionary, pick the word \"Bangalore\". \n",
    "d = {'1':'One','2':[1,{'Two':['Ch','Cbe','Salem',{'Place':[5,6,7,'Bangalore']}]}]}"
   ]
  },
  {
   "cell_type": "code",
   "execution_count": 100,
   "metadata": {},
   "outputs": [
    {
     "data": {
      "text/plain": [
       "'Bangalore'"
      ]
     },
     "execution_count": 100,
     "metadata": {},
     "output_type": "execute_result"
    }
   ],
   "source": [
    "d = {'1':'One','2':[1,{'Two':['Ch','Cbe','Salem',{'Place':[5,6,7,'Bangalore']}]}]}\n",
    "d['2'][1]['Two'][3]['Place'][3]"
   ]
  },
  {
   "cell_type": "markdown",
   "metadata": {
    "id": "fsK2r2lITuYZ"
   },
   "source": [
    "10) Use functions to return square of numbers from 2 to 5"
   ]
  },
  {
   "cell_type": "code",
   "execution_count": 105,
   "metadata": {},
   "outputs": [
    {
     "name": "stdout",
     "output_type": "stream",
     "text": [
      "Square of 2: 4\n",
      "Square of 3: 9\n",
      "Square of 4: 16\n",
      "Square of 5: 25\n"
     ]
    }
   ],
   "source": [
    "def square():\n",
    "    for i in range(2,6):\n",
    "        sq = i**2\n",
    "        print(f\"Square of {i}:\",sq)\n",
    "    return\n",
    "square()"
   ]
  },
  {
   "cell_type": "markdown",
   "metadata": {
    "id": "RwVix-tuTuYa"
   },
   "source": [
    "11) Write a Python program which accepts a sequence of comma-separated numbers from user and generate a list and a \n",
    "tuple with those numbers."
   ]
  },
  {
   "cell_type": "code",
   "execution_count": 116,
   "metadata": {},
   "outputs": [
    {
     "name": "stdin",
     "output_type": "stream",
     "text": [
      "Enter comma separated numbers: 10,15,20,28,45,56,70\n"
     ]
    },
    {
     "name": "stdout",
     "output_type": "stream",
     "text": [
      "List of numbers: ['10', '15', '20', '28', '45', '56', '70']\n",
      "Tuple of numbers: ('10', '15', '20', '28', '45', '56', '70')\n"
     ]
    }
   ],
   "source": [
    "numbers = input('Enter comma separated numbers:')\n",
    "num_list = numbers.split(\",\")\n",
    "num_tuple = tuple(numbers.split(','))\n",
    "print(\"List of numbers:\",num_list)\n",
    "print(\"Tuple of numbers:\",num_tuple)"
   ]
  },
  {
   "cell_type": "markdown",
   "metadata": {
    "id": "c_Lz-EB2TuYa"
   },
   "source": [
    "12) Write a Python program to display the first and last colors from the following list.\n",
    "color_list = [\"Red\",\"Green\",\"White\" ,\"Black\"]"
   ]
  },
  {
   "cell_type": "code",
   "execution_count": 122,
   "metadata": {},
   "outputs": [
    {
     "data": {
      "text/plain": [
       "['Red', 'Black']"
      ]
     },
     "execution_count": 122,
     "metadata": {},
     "output_type": "execute_result"
    }
   ],
   "source": [
    "color_list = [\"Red\",\"Green\",\"White\" ,\"Black\"]\n",
    "color_list[0::3]"
   ]
  },
  {
   "cell_type": "markdown",
   "metadata": {
    "id": "UxONxEt-TuYa"
   },
   "source": [
    "13) Write a Python program to calculate number of days between two dates.\n",
    "Sample dates : (2014, 7, 2), (2014, 7, 11)"
   ]
  },
  {
   "cell_type": "code",
   "execution_count": 132,
   "metadata": {},
   "outputs": [
    {
     "name": "stdout",
     "output_type": "stream",
     "text": [
      "Number of days between two dates: 9\n"
     ]
    }
   ],
   "source": [
    "from datetime import datetime,date\n",
    "date1 = date(2014,7,2)\n",
    "date2 = date(2014,7,11)\n",
    "days = date2 - date1\n",
    "print(\"Number of days between two dates:\",days.days)"
   ]
  },
  {
   "cell_type": "markdown",
   "metadata": {
    "id": "Yrigd224TuYa"
   },
   "source": [
    "14) Write a Python program to get the difference between a given number and 17,\n",
    "if the number is greater than 17 return double the absolute difference"
   ]
  },
  {
   "cell_type": "code",
   "execution_count": 3,
   "metadata": {},
   "outputs": [
    {
     "name": "stdin",
     "output_type": "stream",
     "text": [
      "Enter the number: 20\n"
     ]
    },
    {
     "name": "stdout",
     "output_type": "stream",
     "text": [
      "Double absolute difference: 6\n"
     ]
    }
   ],
   "source": [
    "num = int(input(\"Enter the number:\"))\n",
    "if num > 17:\n",
    "    diff = abs(num - 17)*2\n",
    "    print(\"Double absolute difference:\",diff)\n",
    "else:\n",
    "    diff = abs(num - 17)\n",
    "    print(\"Absolute difference:\",diff)"
   ]
  },
  {
   "cell_type": "markdown",
   "metadata": {
    "id": "X6t4moSuTuYb"
   },
   "source": [
    "15) To check whather given element exists in list or not??\n",
    "list1=[1,2,3,4,5,6,7,8,9,10]\n",
    "check if 9 and 12 are present in given list or not"
   ]
  },
  {
   "cell_type": "code",
   "execution_count": 19,
   "metadata": {},
   "outputs": [
    {
     "name": "stdin",
     "output_type": "stream",
     "text": [
      "Enter the number: 12\n"
     ]
    },
    {
     "name": "stdout",
     "output_type": "stream",
     "text": [
      "12 is not present in the list.\n"
     ]
    }
   ],
   "source": [
    "def num_check(num):\n",
    "    list1 = [1,2,3,4,5,6,7,8,9,10]\n",
    "    \n",
    "    if num in list1:\n",
    "        print(f\"{num} is present in the list.\")\n",
    "    else:\n",
    "        print(f\"{num} is not present in the list.\")\n",
    "        \n",
    "    return\n",
    "num = int(input(\"Enter the number:\"))\n",
    "num_check(num)"
   ]
  },
  {
   "cell_type": "markdown",
   "metadata": {
    "id": "4yzIbcIiTuYb"
   },
   "source": [
    "16) Write a function calculation() such that it can accept two variables and calculate the addition and subtraction of it.\n",
    "And also it must return both addition and subtraction in a single return call"
   ]
  },
  {
   "cell_type": "code",
   "execution_count": 24,
   "metadata": {},
   "outputs": [
    {
     "name": "stdin",
     "output_type": "stream",
     "text": [
      "Enter first number: 34\n",
      "Enter second number: 20\n"
     ]
    },
    {
     "name": "stdout",
     "output_type": "stream",
     "text": [
      "Addition of given numbers: 54\n",
      "Subtraction of given numbers: 14\n"
     ]
    }
   ],
   "source": [
    "def calculation(a,b):\n",
    "    add = a+b\n",
    "    sub = a-b\n",
    "    return add,sub\n",
    "a = int(input(\"Enter first number:\"))\n",
    "b = int(input(\"Enter second number:\"))\n",
    "addition, subtraction = calculation(a,b)\n",
    "print(\"Addition of given numbers:\",addition)\n",
    "print(\"Subtraction of given numbers:\",subtraction)"
   ]
  },
  {
   "cell_type": "markdown",
   "metadata": {
    "id": "6LY4_qgfTuYb"
   },
   "source": [
    "17) Create a function showEmployee() in such a way that it should accept employee name, and it’s salary and display both,\n",
    "and if the salary is missing in function call it should show it as 9000"
   ]
  },
  {
   "cell_type": "code",
   "execution_count": 35,
   "metadata": {},
   "outputs": [
    {
     "name": "stdin",
     "output_type": "stream",
     "text": [
      "Enter your name: Piyush\n",
      "Enter your salary: 120000\n"
     ]
    },
    {
     "name": "stdout",
     "output_type": "stream",
     "text": [
      "Employee Name: Piyush\n",
      "Employee Salary: 120000\n"
     ]
    }
   ],
   "source": [
    "def showEmployee(name,salary=9000):\n",
    "    print(\"Employee Name:\",name)\n",
    "    print(\"Employee Salary:\",salary)\n",
    "    return\n",
    "name = input(\"Enter your name:\")\n",
    "salary =input(\"Enter your salary:\")\n",
    "\n",
    "if salary == \"\":\n",
    "    showEmployee(name)\n",
    "else:\n",
    "    showEmployee(name,salary)\n",
    "   "
   ]
  },
  {
   "cell_type": "markdown",
   "metadata": {
    "id": "GdpBegqkTuYc"
   },
   "source": [
    "18) Write a recursive function to calculate the sum of numbers from 0 to 10"
   ]
  },
  {
   "cell_type": "code",
   "execution_count": 52,
   "metadata": {},
   "outputs": [
    {
     "name": "stdout",
     "output_type": "stream",
     "text": [
      "Sum of numbers: 56\n"
     ]
    }
   ],
   "source": [
    "def sum(n):\n",
    "    add = 0\n",
    "    if n == 0:\n",
    "        return 1 # base case where recursion stops.\n",
    "    else:\n",
    "        return n+sum(n-1) # recursive function\n",
    "    \n",
    "print(\"Sum of numbers:\",sum(10))"
   ]
  },
  {
   "cell_type": "markdown",
   "metadata": {
    "id": "7M-0x4QlTuYc"
   },
   "source": [
    "19) Generate a Python list of all the even numbers between 4 to 30"
   ]
  },
  {
   "cell_type": "code",
   "execution_count": 57,
   "metadata": {},
   "outputs": [
    {
     "data": {
      "text/plain": [
       "[4, 6, 8, 10, 12, 14, 16, 18, 20, 22, 24, 26, 28, 30]"
      ]
     },
     "execution_count": 57,
     "metadata": {},
     "output_type": "execute_result"
    }
   ],
   "source": [
    "list1 = []\n",
    "for i in range(4,31,2):\n",
    "    list1.append(i)\n",
    "list1"
   ]
  },
  {
   "cell_type": "markdown",
   "metadata": {
    "id": "K6NuLuEqTuYc"
   },
   "source": [
    "20) Return the largest item from the given list"
   ]
  },
  {
   "cell_type": "code",
   "execution_count": 60,
   "metadata": {},
   "outputs": [
    {
     "data": {
      "text/plain": [
       "78"
      ]
     },
     "execution_count": 60,
     "metadata": {},
     "output_type": "execute_result"
    }
   ],
   "source": [
    "# without sorting.\n",
    "number_list =[10, 25, 58, 78, 45, 32, 20]\n",
    "max(number_list)"
   ]
  },
  {
   "cell_type": "code",
   "execution_count": 62,
   "metadata": {},
   "outputs": [
    {
     "data": {
      "text/plain": [
       "78"
      ]
     },
     "execution_count": 62,
     "metadata": {},
     "output_type": "execute_result"
    }
   ],
   "source": [
    "# using sorting.\n",
    "sorted(number_list)[-1]"
   ]
  }
 ],
 "metadata": {
  "colab": {
   "provenance": []
  },
  "kernelspec": {
   "display_name": "Python [conda env:base] *",
   "language": "python",
   "name": "conda-base-py"
  },
  "language_info": {
   "codemirror_mode": {
    "name": "ipython",
    "version": 3
   },
   "file_extension": ".py",
   "mimetype": "text/x-python",
   "name": "python",
   "nbconvert_exporter": "python",
   "pygments_lexer": "ipython3",
   "version": "3.12.7"
  }
 },
 "nbformat": 4,
 "nbformat_minor": 4
}
