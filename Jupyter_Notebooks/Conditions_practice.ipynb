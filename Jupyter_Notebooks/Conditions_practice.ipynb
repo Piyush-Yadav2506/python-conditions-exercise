{
 "cells": [
  {
   "cell_type": "code",
   "execution_count": 1,
   "id": "6289e4a8-9930-4718-a0fa-e86612a91b0d",
   "metadata": {},
   "outputs": [
    {
     "name": "stdin",
     "output_type": "stream",
     "text": [
      "Enter your age -: 56\n"
     ]
    },
    {
     "name": "stdout",
     "output_type": "stream",
     "text": [
      "ELigible for vote.\n"
     ]
    }
   ],
   "source": [
    "# WAP to check person is eligible for vote casting.\n",
    "age = int(input(\"Enter your age -:\"))\n",
    "if(age>=18 and age<=100):\n",
    "    print(\"ELigible for vote.\")\n",
    "else:\n",
    "    print(\"Not eligible for vote.\")"
   ]
  },
  {
   "cell_type": "code",
   "execution_count": 3,
   "id": "fe398172-c2b0-4679-8db4-a82296ceac57",
   "metadata": {},
   "outputs": [
    {
     "name": "stdin",
     "output_type": "stream",
     "text": [
      "Enter first number 5\n",
      "Enter second number 8\n"
     ]
    },
    {
     "name": "stdout",
     "output_type": "stream",
     "text": [
      "greater number is 8\n"
     ]
    }
   ],
   "source": [
    "# WAP to check greater number between two.\n",
    "a = int(input(\"Enter first number\"))\n",
    "b = int(input(\"Enter second number\"))\n",
    "if(a>b):\n",
    "    print(\"greater number is\",a)\n",
    "elif(b==a):\n",
    "    print(\"Wrong input both are same number\")\n",
    "else:\n",
    "    print(\"greater number is\",b)"
   ]
  },
  {
   "cell_type": "code",
   "execution_count": 5,
   "id": "d646fc68-a244-40ff-af95-9dc21c61f916",
   "metadata": {},
   "outputs": [
    {
     "name": "stdin",
     "output_type": "stream",
     "text": [
      "Enter a number -: 67\n"
     ]
    },
    {
     "name": "stdout",
     "output_type": "stream",
     "text": [
      "Given number is odd.\n"
     ]
    }
   ],
   "source": [
    "# WAP to check if number is even or odd.\n",
    "\n",
    "n = int(input(\"Enter a number -:\"))\n",
    "if(n%2==0):\n",
    "    print (\"Given number is even.\")\n",
    "else:\n",
    "    print(\"Given number is odd.\")"
   ]
  },
  {
   "cell_type": "code",
   "execution_count": 7,
   "id": "1c3186cd-8bdb-46fe-8ced-fa025c303750",
   "metadata": {},
   "outputs": [
    {
     "name": "stdin",
     "output_type": "stream",
     "text": [
      "Enter the first side -: 7\n",
      "Enter the second side -: 8\n",
      "Enter the third side -: 7\n"
     ]
    },
    {
     "name": "stdout",
     "output_type": "stream",
     "text": [
      "This is not equilateral triangle.\n"
     ]
    }
   ],
   "source": [
    "# WAP to check Equilateral triangle.\n",
    "\n",
    "a = int(input(\"Enter the first side -:\"))\n",
    "b = int(input(\"Enter the second side -:\"))\n",
    "c = int(input(\"Enter the third side -:\"))\n",
    "\n",
    "if(a==b==c):\n",
    "    print(\"This is equilateral triangle.\")\n",
    "else:\n",
    "    print(\"This is not equilateral triangle.\")"
   ]
  },
  {
   "cell_type": "code",
   "execution_count": 9,
   "id": "a1ac9218-392d-4099-bf72-24add2c06608",
   "metadata": {},
   "outputs": [
    {
     "name": "stdin",
     "output_type": "stream",
     "text": [
      "Enter the first angle -: 60\n",
      "Enter the second angle -: 90\n",
      "Enter the third angle -: 40\n"
     ]
    },
    {
     "name": "stdout",
     "output_type": "stream",
     "text": [
      "Invalid Input.\n"
     ]
    }
   ],
   "source": [
    "# WAP to check Right angle triangle.\n",
    "\n",
    "a = int(input(\"Enter the first angle -:\"))\n",
    "b = int(input(\"Enter the second angle -:\"))\n",
    "c = int(input(\"Enter the third angle -:\"))\n",
    "\n",
    "if(a+b+c!=180):\n",
    "    print(\"Invalid Input.\")\n",
    "elif(a+b == 90 or b+c == 90 or a+c == 90):\n",
    "    print(\"This is Right angle triangle.\")\n",
    "else:\n",
    "    print(\"This is not Right angle triangle.\")"
   ]
  },
  {
   "cell_type": "code",
   "execution_count": 11,
   "id": "57aa252b-5b71-4da7-96c9-f61fac3f1924",
   "metadata": {},
   "outputs": [
    {
     "name": "stdin",
     "output_type": "stream",
     "text": [
      "Enter any name -: adam\n"
     ]
    },
    {
     "name": "stdout",
     "output_type": "stream",
     "text": [
      "First and Last character are not same.\n"
     ]
    }
   ],
   "source": [
    "# WAP TO CHECK FIRST AND LAST CHARACTER OF NAME IS SAME OR DIFFERENT.\n",
    "\n",
    "#C = 'ADAM'\n",
    "#C[len(C)-1]\n",
    "name = input(\"Enter any name -:\")\n",
    "if(name[0]==name[len(name)-1]):\n",
    "    print(\"First and Last character are same.\")\n",
    "else:\n",
    "    print(\"First and Last character are not same.\")"
   ]
  },
  {
   "cell_type": "code",
   "execution_count": 13,
   "id": "0fe437ef-b1d4-444c-be7e-5d4a3518aa87",
   "metadata": {},
   "outputs": [
    {
     "name": "stdin",
     "output_type": "stream",
     "text": [
      "Enter any name-: nayan\n"
     ]
    },
    {
     "name": "stdout",
     "output_type": "stream",
     "text": [
      "Given name is pallindrome.\n"
     ]
    }
   ],
   "source": [
    "# WAP to check given name is Pallindrome.\n",
    "\n",
    "#c = 'naya'\n",
    "#c1 = c[::-1]\n",
    "name = input(\"Enter any name-:\")\n",
    "reverse = name[::-1]\n",
    "\n",
    "if (name == reverse):\n",
    "    print(\"Given name is pallindrome.\")\n",
    "else:\n",
    "    print(\"Given name is not pallindrome.\")\n"
   ]
  },
  {
   "cell_type": "code",
   "execution_count": 15,
   "id": "d6069aac-81d6-4f8f-86c1-7eb28ca1cec8",
   "metadata": {},
   "outputs": [
    {
     "name": "stdin",
     "output_type": "stream",
     "text": [
      "Please enter your valid gmail id-:  piyushyadav865@gmail.com\n"
     ]
    },
    {
     "name": "stdout",
     "output_type": "stream",
     "text": [
      "Your current username is piyushyadav865\n"
     ]
    }
   ],
   "source": [
    "# WAP to accept gmailid and print username.\n",
    "\n",
    "id = input(\"Please enter your valid gmail id-: \")\n",
    "username = id[:len(id)-10:1]\n",
    "print(\"Your current username is\",username)"
   ]
  },
  {
   "cell_type": "code",
   "execution_count": 17,
   "id": "8f7d18de-d740-4614-a104-9120a72414b3",
   "metadata": {},
   "outputs": [
    {
     "name": "stdin",
     "output_type": "stream",
     "text": [
      "Please enter your valid website.\n",
      " www.kaggle.com\n"
     ]
    },
    {
     "name": "stdout",
     "output_type": "stream",
     "text": [
      "Your current domain name is kaggle\n"
     ]
    }
   ],
   "source": [
    "# WAP to accept website name with prefix www. and suffix .com and print the domain name.\n",
    "\n",
    "url = input(\"Please enter your valid website.\\n\")\n",
    "domain = url[4:len(url)-4:1]\n",
    "print(\"Your current domain name is\",domain)"
   ]
  },
  {
   "cell_type": "code",
   "execution_count": 21,
   "id": "3dcd01af-90c7-4a11-a8ea-1d0cf535a601",
   "metadata": {},
   "outputs": [
    {
     "name": "stdin",
     "output_type": "stream",
     "text": [
      "Enter any alphabet character-:  u\n"
     ]
    },
    {
     "name": "stdout",
     "output_type": "stream",
     "text": [
      "It is a vowel.\n"
     ]
    }
   ],
   "source": [
    "# WAP to check input character is vowel or consonant.\n",
    "\n",
    "alpha = input(\"Enter any alphabet character-: \")\n",
    "\n",
    "if(alpha == 'a' or alpha =='A'):\n",
    "    print(\"It is a vowel.\")\n",
    "elif(alpha == 'e' or alpha =='E'):\n",
    "    print(\"It is a vowel.\")\n",
    "elif(alpha == 'i' or alpha == 'I'):\n",
    "    print(\"It is a vowel.\")\n",
    "elif(alpha == 'o' or alpha == 'O'):\n",
    "    print(\"It is a vowel.\")\n",
    "elif(alpha == 'u' or alpha == 'U'):\n",
    "    print(\"It is a vowel.\")\n",
    "else:\n",
    "    print(\"It is a consonant.\")"
   ]
  },
  {
   "cell_type": "code",
   "execution_count": 23,
   "id": "1847b573-5991-4740-a19d-ab1a045b218b",
   "metadata": {},
   "outputs": [
    {
     "name": "stdin",
     "output_type": "stream",
     "text": [
      "Enter any name-:  rhythm\n"
     ]
    },
    {
     "name": "stdout",
     "output_type": "stream",
     "text": [
      "There is no vowel in given name.\n"
     ]
    }
   ],
   "source": [
    "# WAP to check any vowel present in given name.\n",
    "\n",
    "name = input(\"Enter any name-: \")\n",
    "if('a' in name or 'A' in name):\n",
    "    print(\"Vowel is present in name.\")\n",
    "elif('e' in name or 'E' in name):\n",
    "    print(\"Vowel is present in name.\")\n",
    "elif('i' in name or 'I' in name):\n",
    "    print(\"Vowel is present in name.\")\n",
    "elif('o' in name or 'O' in name):\n",
    "    print(\"Vowel is present in name.\")\n",
    "elif('u'in name or 'U' in name):\n",
    "    print(\"Vowel is present in name.\")\n",
    "else:\n",
    "    print(\"There is no vowel in given name.\")"
   ]
  },
  {
   "cell_type": "code",
   "execution_count": 25,
   "id": "ed18a5e1-e464-45c0-bb74-a42351135952",
   "metadata": {},
   "outputs": [
    {
     "name": "stdin",
     "output_type": "stream",
     "text": [
      "Enter the amount -:  794353\n"
     ]
    },
    {
     "name": "stdout",
     "output_type": "stream",
     "text": [
      "Number of 500 notes = 1588\n",
      "Number of 200 notes = 1\n",
      "Number of 100 notes = 1\n",
      "Number of 50 notes = 1\n",
      "Number of 20 notes = 0\n",
      "Number of 10 notes = 0\n",
      "Number of 5 notes = 0\n",
      "Number of 2 notes = 1\n",
      "Number of 1 notes = 1\n"
     ]
    }
   ],
   "source": [
    "# Calculate no. of notes and coins for a given amount.\n",
    "\n",
    "amount = int(input(\"Enter the amount -: \"))\n",
    "\n",
    "five_hundred = amount // 500\n",
    "amount = amount % 500\n",
    "two_hundred = amount // 200\n",
    "amount = amount % 200\n",
    "hundred = amount // 100\n",
    "amount =amount%100\n",
    "fifty = amount//50\n",
    "amount = amount%50\n",
    "twenty = amount//20\n",
    "amount = amount%20\n",
    "ten = amount//10\n",
    "amount = amount%10\n",
    "five = amount//5\n",
    "amount =amount%5\n",
    "two =amount//2\n",
    "amount = amount%2\n",
    "one = amount//1\n",
    "\n",
    "print(\"Number of 500 notes =\",five_hundred)\n",
    "print(\"Number of 200 notes =\",two_hundred)\n",
    "print(\"Number of 100 notes =\",hundred)\n",
    "print(\"Number of 50 notes =\",fifty)\n",
    "print(\"Number of 20 notes =\",twenty)\n",
    "print(\"Number of 10 notes =\",ten)\n",
    "print(\"Number of 5 notes =\",five)\n",
    "print(\"Number of 2 notes =\",two)\n",
    "print(\"Number of 1 notes =\",one)"
   ]
  },
  {
   "cell_type": "code",
   "execution_count": 27,
   "id": "42160735-1971-4af1-bfd2-4d6da6161b9b",
   "metadata": {},
   "outputs": [
    {
     "name": "stdin",
     "output_type": "stream",
     "text": [
      "Enter 5 subject marks-:  45,67,58,75,92\n"
     ]
    },
    {
     "name": "stdout",
     "output_type": "stream",
     "text": [
      "67.4\n",
      "Grade B\n"
     ]
    }
   ],
   "source": [
    "# Accept 5 marks from user,calculate percentage. Print grade with condition.\n",
    "# 100% - 75% = A\n",
    "# 75% - 50% = B\n",
    "# 50% - 35% = C\n",
    "# Below 35 = Fail\n",
    "\n",
    "n1,n2,n3,n4,n5 = eval(input(\"Enter 5 subject marks-: \"))\n",
    "percent = (n1+n2+n3+n4+n5)/5\n",
    "print(percent)\n",
    "\n",
    "if(percent>=75):\n",
    "    print(\"Grade A\")\n",
    "elif(percent<75 and percent>=50):\n",
    "    print(\"Grade B\")\n",
    "elif(percent<50 and percent>=35):\n",
    "    print(\"Grade C\")\n",
    "else:\n",
    "    print(\"FAIL\\n\")"
   ]
  },
  {
   "cell_type": "code",
   "execution_count": 29,
   "id": "59cc289e-1ae1-4688-af7e-73aec28c90c4",
   "metadata": {},
   "outputs": [
    {
     "name": "stdin",
     "output_type": "stream",
     "text": [
      "Enter correct electricity units =  450\n"
     ]
    },
    {
     "name": "stdout",
     "output_type": "stream",
     "text": [
      "Your electricity bill is 6981.75\n"
     ]
    }
   ],
   "source": [
    "# WAP to calculate electricity bill with penalty. conditions below\n",
    "#  Units   Rate   Penalty\n",
    "#  0-100    7       Null\n",
    "# 100-200  9.7      2%\n",
    "# 200-300  11.3     4%\n",
    "# 300-500  14.5     7%\n",
    "#Above 500 17.3    10%\n",
    "\n",
    "unit = eval(input(\"Enter correct electricity units = \"))\n",
    "if(unit<=100):\n",
    "    bill = unit*7\n",
    "    print(\"Your electricity bill is\",bill)\n",
    "elif(unit>100 and unit<=200):\n",
    "    bill = (unit*9.7)/50 +unit*9.7\n",
    "    print(\"Your electricity bill is\",bill)\n",
    "elif(unit>200 and unit<=300):\n",
    "    bill = (unit*11.3)/25 +unit*11.3\n",
    "    print(\"Your electricity bill is\",bill)\n",
    "elif(unit>300 and unit<=500):\n",
    "    bill = (unit*14.5)*7/100 +unit*14.5\n",
    "    print(\"Your electricity bill is\",bill)\n",
    "else:\n",
    "    bill = (unit*17.3)/10 +unit*17.3\n",
    "    print(\"Your electricity bill is\",bill)"
   ]
  },
  {
   "cell_type": "code",
   "execution_count": 31,
   "id": "c7e3f2d6-7ca1-4225-bed5-e0e9f6712ec9",
   "metadata": {},
   "outputs": [
    {
     "name": "stdin",
     "output_type": "stream",
     "text": [
      "Enter username:  rdfjfj&d12\n"
     ]
    },
    {
     "name": "stdout",
     "output_type": "stream",
     "text": [
      "You entered: rdfjfj&d12\n",
      "Input contains special characters.\n"
     ]
    }
   ],
   "source": [
    "# WAP to check input data is character, if character upper or lower,num,space,special character.\n",
    "\n",
    "n = input(\"Enter username: \")\n",
    "print(\"You entered:\", n)\n",
    "\n",
    "if n.isalpha():\n",
    "    print(\"Input is alphabetic.\")\n",
    "    if n.isupper():\n",
    "        print(\"Input is all UPPERCASE.\")\n",
    "    elif n.islower():\n",
    "        print(\"Input is all lowercase.\")\n",
    "    else:\n",
    "        print(\"Input is mixedcase.\")\n",
    "elif n.isdigit():\n",
    "    print(\"Input is numeric.\")\n",
    "elif n.isspace():\n",
    "    print(\"Input is whitespace.\")\n",
    "elif n.isalnum():\n",
    "    print(\"Input is alphanumeric.\")\n",
    "elif not n.isalnum() and not n.isspace():\n",
    "    print(\"Input contains special characters.\")\n",
    "else:\n",
    "    print(\"Invalid input.\")"
   ]
  },
  {
   "cell_type": "code",
   "execution_count": 35,
   "id": "3ef1c04f-33b4-46f6-b135-519cd89c274b",
   "metadata": {},
   "outputs": [
    {
     "name": "stdin",
     "output_type": "stream",
     "text": [
      "Enter the three sides of triangle =  25,19,25\n"
     ]
    },
    {
     "name": "stdout",
     "output_type": "stream",
     "text": [
      "This is isoceles triangle.\n"
     ]
    }
   ],
   "source": [
    "# WAP to take three side and check type of triangle.\n",
    "\n",
    "a,b,c = eval(input(\"Enter the three sides of triangle = \"))\n",
    "if(a==b==c):\n",
    "    print(\"This is Equilateral triangle.\")\n",
    "elif(a==b or b==c or c==a):\n",
    "    print(\"This is isoceles triangle.\")\n",
    "else:\n",
    "    print(\"This is Scalene triangle.\")"
   ]
  },
  {
   "cell_type": "code",
   "execution_count": 37,
   "id": "8e2d2c85-7f53-4afd-920e-1e9d0d956adb",
   "metadata": {},
   "outputs": [
    {
     "name": "stdin",
     "output_type": "stream",
     "text": [
      "Enter any two numbers =  12,8\n"
     ]
    },
    {
     "name": "stdout",
     "output_type": "stream",
     "text": [
      "Choice of Operation.\n",
      " Press 1 for addition.\n",
      " Press 2 for subtraction.\n",
      " Press 3 for multiplication.\n",
      " Press 4 for division.\n",
      " Press 5 for floor division.\n",
      " Press 6 for modulus.\n",
      " Press 7 for exponential.\n",
      "\n"
     ]
    },
    {
     "name": "stdin",
     "output_type": "stream",
     "text": [
      "Enter your choice = 6\n"
     ]
    },
    {
     "name": "stdout",
     "output_type": "stream",
     "text": [
      "Modulus remainder = 4\n"
     ]
    }
   ],
   "source": [
    "# WAP to perform different arithmetic operation, take 2 input and choice of operation from user.\n",
    "\n",
    "x,y = eval(input(\"Enter any two numbers = \"))\n",
    "print(\"Choice of Operation.\\n\",\"Press 1 for addition.\\n\",\"Press 2 for subtraction.\\n\",\"Press 3 for multiplication.\\n\",\"Press 4 for division.\\n\",\"Press 5 for floor division.\\n\",\"Press 6 for modulus.\\n\",\"Press 7 for exponential.\\n\")\n",
    "ops = int(input(\"Enter your choice =\"))\n",
    "if(ops==1):\n",
    "    print(\"Addition =\",x+y)\n",
    "elif(ops==2):\n",
    "    print(\"Subtraction =\",x-y)\n",
    "elif(ops==3):\n",
    "    print(\"Multiplication =\",x*y)\n",
    "elif(ops==4):\n",
    "    print(\"Divsion =\",x/y)\n",
    "elif(ops==5):\n",
    "    print(\"Floor Divsion =\",x//y)\n",
    "elif(ops==6):\n",
    "    print(\"Modulus remainder =\",x%y)\n",
    "elif(ops==7):\n",
    "    print(\"Exponential =\",x**y)\n",
    "else:\n",
    "    print(\"Invalid Choice.\")"
   ]
  },
  {
   "cell_type": "code",
   "execution_count": 41,
   "id": "a2361a77-1f6c-444a-b38b-892588fe3935",
   "metadata": {},
   "outputs": [
    {
     "name": "stdin",
     "output_type": "stream",
     "text": [
      "Enter any three numbers-: 4,4,4\n"
     ]
    },
    {
     "name": "stdout",
     "output_type": "stream",
     "text": [
      "Largest number is 4\n"
     ]
    },
    {
     "name": "stdin",
     "output_type": "stream",
     "text": [
      "Enter any three numbers-: 4,34,7\n"
     ]
    },
    {
     "name": "stdout",
     "output_type": "stream",
     "text": [
      "Largest number is 34\n"
     ]
    }
   ],
   "source": [
    "# WAP to take 3 input and check maximum number.\n",
    "\n",
    "a,b,c = eval(input(\"Enter any three numbers-:\"))\n",
    "max_no = max(a,b,c)\n",
    "print(\"Largest number is\",max_no)\n",
    "\n",
    "# 2nd Method.\n",
    "\n",
    "a,b,c = eval(input(\"Enter any three numbers-:\"))\n",
    "if(a>b and a>c):\n",
    "    print(\"Largest number is\",a)\n",
    "elif(b>c and b>a):\n",
    "    print(\"Largest number is\",b)\n",
    "else:\n",
    "    print(\"Largest number is\",c) "
   ]
  },
  {
   "cell_type": "code",
   "execution_count": 43,
   "id": "6ff0db29-1727-4daf-ac82-c9e0fc588373",
   "metadata": {},
   "outputs": [
    {
     "name": "stdin",
     "output_type": "stream",
     "text": [
      "Enter elements in list separated by space. dog,cat,404,dog\n"
     ]
    },
    {
     "name": "stdout",
     "output_type": "stream",
     "text": [
      "['dog,cat,404,dog']\n"
     ]
    },
    {
     "data": {
      "text/plain": [
       "True"
      ]
     },
     "execution_count": 43,
     "metadata": {},
     "output_type": "execute_result"
    }
   ],
   "source": [
    "# WAP to accept list from user and check first and last element is same or not.\n",
    "\n",
    "list1 = input(\"Enter elements in list separated by space.\").split()\n",
    "print(list1)\n",
    "list1[0]==list1[len(list1)-1]"
   ]
  },
  {
   "cell_type": "code",
   "execution_count": 45,
   "id": "839c0a4a-faa2-4be4-8338-615a74972790",
   "metadata": {},
   "outputs": [
    {
     "name": "stdin",
     "output_type": "stream",
     "text": [
      "Enter elements in list separated by space. dog,cat,404,dog\n"
     ]
    },
    {
     "name": "stdout",
     "output_type": "stream",
     "text": [
      "['dog,cat,404,dog']\n",
      "<class 'str'>\n",
      "<class 'str'>\n"
     ]
    }
   ],
   "source": [
    "# WAP to accept list from user and check datatype of first and last element.\n",
    "\n",
    "list1 = input(\"Enter elements in list separated by space.\").split()\n",
    "print(list1)\n",
    "print(type(list1[0]))\n",
    "print(type(list1[len(list1)-1]))"
   ]
  },
  {
   "cell_type": "code",
   "execution_count": null,
   "id": "55777949-703a-4cbd-8be8-60e96007a3c9",
   "metadata": {},
   "outputs": [],
   "source": []
  }
 ],
 "metadata": {
  "kernelspec": {
   "display_name": "Python [conda env:base] *",
   "language": "python",
   "name": "conda-base-py"
  },
  "language_info": {
   "codemirror_mode": {
    "name": "ipython",
    "version": 3
   },
   "file_extension": ".py",
   "mimetype": "text/x-python",
   "name": "python",
   "nbconvert_exporter": "python",
   "pygments_lexer": "ipython3",
   "version": "3.12.7"
  }
 },
 "nbformat": 4,
 "nbformat_minor": 5
}
